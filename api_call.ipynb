{
 "cells": [
  {
   "cell_type": "code",
   "execution_count": 9,
   "id": "142ab826",
   "metadata": {},
   "outputs": [],
   "source": [
    "import os\n",
    "import openai\n",
    "# import spacy\n",
    "# from nltk.tokenize import sent_tokenize, word_tokenize"
   ]
  },
  {
   "cell_type": "code",
   "execution_count": 26,
   "id": "37e823e4",
   "metadata": {},
   "outputs": [],
   "source": [
    "prompt = \"\"\"Generate 10 additional sentences for restaurant reviews. Use the following sentences as a reference:\n",
    "\n",
    "    The food was delicious and perfectly cooked. I would definitely come back again.\n",
    "    The service was slow and the staff seemed disorganized. It was frustrating to wait so long for our food.\n",
    "    The atmosphere was cozy and inviting, but the music was a bit too loud for my taste.\n",
    "    Overall, I had a great experience at this restaurant. The food was top-notch and the service was excellent.\n",
    "    The menu was limited and the portions were small. I expected more for the price.\n",
    "    The decor was beautiful and the ambiance was perfect for a romantic dinner.\n",
    "\n",
    "Focus on aspects such as decor, menu, location, or customer service. Please write in a negative tone.\"\"\""
   ]
  },
  {
   "cell_type": "code",
   "execution_count": null,
   "id": "f9b5593b",
   "metadata": {},
   "outputs": [],
   "source": [
    "# notes:\n",
    "# keywords has to be comma separated words as in the above prompt example (2-4 words)\n",
    "# tone can be a dropdown with 3 options: positive, negative, neutral\n",
    "# keep user input of reference sentences to at least 3, max can be 6\n",
    "\n",
    "prompt = \"\"\"Generate {count} additional sentences for {topic_name}. Use the following sentences as a reference:\n",
    "\n",
    "    The food was delicious and perfectly cooked. I would definitely come back again.\n",
    "    The service was slow and the staff seemed disorganized. It was frustrating to wait so long for our food.\n",
    "    The atmosphere was cozy and inviting, but the music was a bit too loud for my taste.\n",
    "    Overall, I had a great experience at this restaurant. The food was top-notch and the service was excellent.\n",
    "    The menu was limited and the portions were small. I expected more for the price.\n",
    "    The decor was beautiful and the ambiance was perfect for a romantic dinner.\n",
    "\n",
    "Focus on aspects such as {keywords}. Please write in a {tone} tone.\"\"\""
   ]
  },
  {
   "cell_type": "code",
   "execution_count": null,
   "id": "7c40bb1e",
   "metadata": {},
   "outputs": [],
   "source": []
  },
  {
   "cell_type": "code",
   "execution_count": null,
   "id": "a8ab5b9b",
   "metadata": {},
   "outputs": [],
   "source": []
  },
  {
   "cell_type": "code",
   "execution_count": 27,
   "id": "fc3e3f48",
   "metadata": {},
   "outputs": [],
   "source": [
    "openai.api_key = os.getenv(\"OPENAI_API_KEY\")\n",
    "\n",
    "response = openai.Completion.create(\n",
    "  engine=\"text-davinci-003\",\n",
    "  prompt = prompt,\n",
    "  temperature=0.7,\n",
    "  max_tokens=3873,\n",
    "  top_p=1,\n",
    "  frequency_penalty=0,\n",
    "  presence_penalty=0\n",
    ")"
   ]
  },
  {
   "cell_type": "code",
   "execution_count": 28,
   "id": "619c3113",
   "metadata": {},
   "outputs": [
    {
     "data": {
      "text/plain": [
       "<OpenAIObject text_completion id=cmpl-6mKPeeNbCcH5tSHrDLTJoJosVTMdT at 0x7fa377afa900> JSON: {\n",
       "  \"choices\": [\n",
       "    {\n",
       "      \"finish_reason\": \"stop\",\n",
       "      \"index\": 0,\n",
       "      \"logprobs\": null,\n",
       "      \"text\": \"\\n\\n1. I'm researching different hotel options for my stay in Paris.\\n2. I'm looking into renting a car for my trip to Tokyo.\\n3. I'm considering different airlines for my flight to Hawaii.\\n4. I'm trying to decide on the best itinerary for my Caribbean cruise.\\n5. I'm exploring different tour companies for my tour of Europe.\\n6. I'm researching the best areas for a vacation to the Mediterranean.\\n7. I'm looking into the best way to get to my destination in Paris.\\n8. I'm comparing different transportation options for my trip to Tokyo.\\n9. I'm checking the cost of flights for my flight to Hawaii.\\n10. I'm looking at the different ports of call for my Caribbean cruise.\"\n",
       "    }\n",
       "  ],\n",
       "  \"created\": 1676976230,\n",
       "  \"id\": \"cmpl-6mKPeeNbCcH5tSHrDLTJoJosVTMdT\",\n",
       "  \"model\": \"text-davinci-003\",\n",
       "  \"object\": \"text_completion\",\n",
       "  \"usage\": {\n",
       "    \"completion_tokens\": 161,\n",
       "    \"prompt_tokens\": 117,\n",
       "    \"total_tokens\": 278\n",
       "  }\n",
       "}"
      ]
     },
     "execution_count": 28,
     "metadata": {},
     "output_type": "execute_result"
    }
   ],
   "source": [
    "response"
   ]
  },
  {
   "cell_type": "code",
   "execution_count": 29,
   "id": "b9a7e7bf",
   "metadata": {},
   "outputs": [
    {
     "data": {
      "text/plain": [
       "[\"1. I'm researching different hotel options for my stay in Paris.\",\n",
       " \"2. I'm looking into renting a car for my trip to Tokyo.\",\n",
       " \"3. I'm considering different airlines for my flight to Hawaii.\",\n",
       " \"4. I'm trying to decide on the best itinerary for my Caribbean cruise.\",\n",
       " \"5. I'm exploring different tour companies for my tour of Europe.\",\n",
       " \"6. I'm researching the best areas for a vacation to the Mediterranean.\",\n",
       " \"7. I'm looking into the best way to get to my destination in Paris.\",\n",
       " \"8. I'm comparing different transportation options for my trip to Tokyo.\",\n",
       " \"9. I'm checking the cost of flights for my flight to Hawaii.\",\n",
       " \"10. I'm looking at the different ports of call for my Caribbean cruise.\"]"
      ]
     },
     "execution_count": 29,
     "metadata": {},
     "output_type": "execute_result"
    }
   ],
   "source": [
    "response.choices[0]['text'].strip().split('\\n')"
   ]
  },
  {
   "cell_type": "markdown",
   "id": "53c99e6d",
   "metadata": {},
   "source": [
    "### ignore "
   ]
  },
  {
   "cell_type": "code",
   "execution_count": 115,
   "id": "bb1d7a6d",
   "metadata": {},
   "outputs": [
    {
     "name": "stdout",
     "output_type": "stream",
     "text": [
      "Tokens: 126\n",
      "Remaining tokens: 3864\n",
      "Average words in a sentence: 16\n",
      "avg sentences can be generated: 241.5\n"
     ]
    }
   ],
   "source": [
    "# no of words/tokens in prompt\n",
    "words = prompt.split()\n",
    "num_words = len(words)\n",
    "print(\"Tokens:\", num_words)\n",
    "\n",
    "max_tokens_val = 3990 - num_words\n",
    "print(\"Remaining tokens:\",max_tokens_val)\n",
    "\n",
    "lines = prompt.split('\\n')\n",
    "sentences = [line.strip() for line in lines if line.strip() != ''][1:7]\n",
    "\n",
    "#words in a new sentence\n",
    "length = [len(word.split()) for word in sentences]\n",
    "avg_sent_len = sum(length)/len(length)\n",
    "avg_sent_len = round(avg_sent_len)\n",
    "print(\"Average words in a sentence:\",avg_sent_len)\n",
    "print(\"avg sentences can be generated:\", max_tokens_val/avg_sent_len)"
   ]
  },
  {
   "cell_type": "code",
   "execution_count": 116,
   "id": "e04b0a04",
   "metadata": {},
   "outputs": [
    {
     "data": {
      "text/plain": [
       "154"
      ]
     },
     "execution_count": 116,
     "metadata": {},
     "output_type": "execute_result"
    }
   ],
   "source": [
    "# spacy\n",
    "\n",
    "nlp = spacy.blank(\"en\")\n",
    "\n",
    "doc = nlp(prompt)\n",
    "\n",
    "len(doc)\n"
   ]
  },
  {
   "cell_type": "code",
   "execution_count": 121,
   "id": "0a0721f9",
   "metadata": {},
   "outputs": [
    {
     "name": "stdout",
     "output_type": "stream",
     "text": [
      "13\n",
      "145\n"
     ]
    }
   ],
   "source": [
    "# nltk\n",
    "\n",
    "print(len(word_tokenize(prompt)))"
   ]
  },
  {
   "cell_type": "code",
   "execution_count": null,
   "id": "b31deda1",
   "metadata": {},
   "outputs": [],
   "source": []
  }
 ],
 "metadata": {
  "kernelspec": {
   "display_name": "Python 3 (ipykernel)",
   "language": "python",
   "name": "python3"
  },
  "language_info": {
   "codemirror_mode": {
    "name": "ipython",
    "version": 3
   },
   "file_extension": ".py",
   "mimetype": "text/x-python",
   "name": "python",
   "nbconvert_exporter": "python",
   "pygments_lexer": "ipython3",
   "version": "3.9.13"
  }
 },
 "nbformat": 4,
 "nbformat_minor": 5
}
